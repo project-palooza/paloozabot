{
 "cells": [
  {
   "cell_type": "code",
   "execution_count": 5,
   "metadata": {},
   "outputs": [],
   "source": [
    "with open('paloozabot.log','r') as file:\n",
    "    logs = file.readlines() # bad idea to read lines"
   ]
  },
  {
   "cell_type": "code",
   "execution_count": 7,
   "metadata": {},
   "outputs": [],
   "source": [
    "line = logs[0]"
   ]
  },
  {
   "cell_type": "code",
   "execution_count": 8,
   "metadata": {},
   "outputs": [
    {
     "data": {
      "text/plain": [
       "'05/01/2024 03:33:36 PM:WARNING:discord.client:client:295:__init__: PyNaCl is not installed, voice will NOT be supported\\n'"
      ]
     },
     "execution_count": 8,
     "metadata": {},
     "output_type": "execute_result"
    }
   ],
   "source": [
    "line"
   ]
  },
  {
   "cell_type": "code",
   "execution_count": 13,
   "metadata": {},
   "outputs": [
    {
     "name": "stdout",
     "output_type": "stream",
     "text": [
      "LOG ENTRY:\n",
      "05/01/2024 08:54:10 PM:DEBUG:discord.client:client:1989:event: on_ready has successfully been registered as an event\n",
      "\n",
      "--------------------------------------------------\n",
      "LOG ENTRY:\n",
      "05/01/2024 08:54:10 PM:DEBUG:discord.client:client:1989:event: on_message has successfully been registered as an event\n",
      "\n",
      "--------------------------------------------------\n",
      "LOG ENTRY:\n",
      "05/01/2024 08:54:10 PM:DEBUG:discord.client:client:1989:event: on_member_join has successfully been registered as an event\n",
      "\n",
      "--------------------------------------------------\n",
      "LOG ENTRY:\n",
      "05/01/2024 08:54:10 PM:DEBUG:discord.client:client:1989:event: on_reaction_add has successfully been registered as an event\n",
      "\n",
      "--------------------------------------------------\n",
      "LOG ENTRY:\n",
      "05/01/2024 08:54:10 PM:DEBUG:asyncio:selector_events:64:__init__: Using selector: EpollSelector\n",
      "\n",
      "--------------------------------------------------\n",
      "LOG ENTRY:\n",
      "05/01/2024 08:54:10 PM:INFO:discord.client:client:603:login: logging in using static token\n",
      "\n",
      "--------------------------------------------------\n",
      "LOG ENTRY:\n",
      "05/01/2024 08:54:11 PM:INFO:discord.gateway:gateway:561:received_message: Shard ID None has connected to Gateway (Session ID: 17a27bca5b91cfd3fa4f6e52189c4a8e).\n",
      "\n",
      "--------------------------------------------------\n",
      "LOG ENTRY:\n",
      "05/01/2024 08:54:13 PM:INFO:discord:bot:34:on_ready: logged in as paloozabot\n",
      "\n",
      "--------------------------------------------------\n",
      "LOG ENTRY:\n",
      "05/01/2024 09:13:32 PM:INFO:discord:bot:42:on_message: Message from a_na4603 in #project: [kaggle-query](https://github. (ID: 1232791777208172596): @everyone \n",
      "\n",
      "update:\n",
      "\n",
      "good session today. we start the process of pulling metadata for all kaggle datasets (still running!) and planned out next steps for data storage and AI search.\n",
      "\n",
      "here's our [user story doc](https://docs.google.com/document/d/1aRKU-iLoIUfsgBydMsxJ7HmIyzprqipbHhiD-6On9zc/edit?usp=sharing), Message ID: 1235338342900699187\n",
      "\n",
      "--------------------------------------------------\n",
      "LOG ENTRY:\n",
      "05/01/2024 09:17:09 PM:INFO:discord:bot:42:on_message: Message from a_na4603 in #social (ID: 1225870954257973386): !hello, Message ID: 1235339254842789898\n",
      "\n",
      "--------------------------------------------------\n"
     ]
    }
   ],
   "source": [
    "import re\n",
    "\n",
    "with open('paloozabot.log','r') as file:\n",
    "    log_data = file.read()\n",
    "\n",
    "# \"find 2 numbers followed by a forward slash, followed by two numbers ... etc\"\n",
    "pattern = re.compile(r'\\d{2}/\\d{2}/\\d{4} \\d{2}:\\d{2}:\\d{2} (?:AM|PM)')\n",
    "\n",
    "matches = list(pattern.finditer(log_data)) # find the datetimes\n",
    "\n",
    "positions = [match.start() for match in matches] # we'll use these to snap logs together with their datetime\n",
    "\n",
    "logs = []\n",
    "for i in range(len(positions)):\n",
    "    if i == len(positions) - 1:\n",
    "        logs.append(log_data[positions[i]:])\n",
    "    else:\n",
    "        logs.append(log_data[positions[i]:positions[i+1]])\n",
    "\n",
    "for entry in logs[10:20]:\n",
    "    print(f\"LOG ENTRY:\\n{entry}\\n{'-'*50}\")\n",
    "\n",
    "# let's make this a function and put it in a py file"
   ]
  },
  {
   "cell_type": "code",
   "execution_count": null,
   "metadata": {},
   "outputs": [],
   "source": [
    "def listify_log(log_data):\n",
    "\n",
    "    \"\"\" input: string (log data)\n",
    "        output: list (of logs)\n",
    "    \"\"\"\n",
    "\n",
    "    pattern = re.compile(r'\\d{2}/\\d{2}/\\d{4} \\d{2}:\\d{2}:\\d{2} (?:AM|PM)')\n",
    "\n",
    "    matches = list(pattern.finditer(log_data)) # find the datetimes\n",
    "\n",
    "    positions = [match.start() for match in matches] # we'll use these to snap logs together with their datetime\n",
    "\n",
    "    logs = []\n",
    "    for i in range(len(positions)):\n",
    "        if i == len(positions) - 1:\n",
    "            logs.append(log_data[positions[i]:])\n",
    "        else:\n",
    "            logs.append(log_data[positions[i]:positions[i+1]])\n",
    "    \n",
    "    return logs"
   ]
  }
 ],
 "metadata": {
  "kernelspec": {
   "display_name": "basic",
   "language": "python",
   "name": "python3"
  },
  "language_info": {
   "codemirror_mode": {
    "name": "ipython",
    "version": 3
   },
   "file_extension": ".py",
   "mimetype": "text/x-python",
   "name": "python",
   "nbconvert_exporter": "python",
   "pygments_lexer": "ipython3",
   "version": "3.11.7"
  },
  "orig_nbformat": 4
 },
 "nbformat": 4,
 "nbformat_minor": 2
}
