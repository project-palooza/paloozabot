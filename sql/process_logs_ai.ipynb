{
 "cells": [
  {
   "cell_type": "code",
   "execution_count": 1,
   "metadata": {},
   "outputs": [],
   "source": [
    "with open('paloozabot.log','r') as file:\n",
    "    logs = file.readlines() "
   ]
  },
  {
   "cell_type": "code",
   "execution_count": 2,
   "metadata": {},
   "outputs": [],
   "source": [
    "line = logs[1]"
   ]
  },
  {
   "cell_type": "code",
   "execution_count": 3,
   "metadata": {},
   "outputs": [
    {
     "data": {
      "text/plain": [
       "'05/01/2024 03:33:36 PM:WARNING:discord.client:client:295:__init__: PyNaCl is not installed, voice will NOT be supported\\n'"
      ]
     },
     "execution_count": 3,
     "metadata": {},
     "output_type": "execute_result"
    }
   ],
   "source": [
    "line"
   ]
  },
  {
   "cell_type": "code",
   "execution_count": 8,
   "metadata": {},
   "outputs": [],
   "source": [
    "import openai\n",
    "from dotenv import load_dotenv,find_dotenv\n",
    "import os\n",
    "\n",
    "_ = load_dotenv(find_dotenv())\n",
    "api_key = os.getenv(\"OPENAI_API_KEY\")\n",
    "\n",
    "openai.api_key = api_key"
   ]
  },
  {
   "cell_type": "code",
   "execution_count": 9,
   "metadata": {},
   "outputs": [],
   "source": [
    "def get_completion(prompt, model=\"gpt-4\"):\n",
    "    '''basic completion from gpt4'''\n",
    "    messages = [{\"role\": \"user\", \"content\": prompt}]\n",
    "    response = openai.ChatCompletion.create(\n",
    "        model=model,\n",
    "        messages=messages,\n",
    "        temperature=0, \n",
    "    )\n",
    "    return response.choices[0].message[\"content\"]"
   ]
  },
  {
   "cell_type": "code",
   "execution_count": 10,
   "metadata": {},
   "outputs": [
    {
     "data": {
      "text/plain": [
       "'The Philadelphia Phillies won the World Series in 1980.'"
      ]
     },
     "execution_count": 10,
     "metadata": {},
     "output_type": "execute_result"
    }
   ],
   "source": [
    "get_completion(\"who won the world series in 1980?\")"
   ]
  },
  {
   "cell_type": "code",
   "execution_count": 47,
   "metadata": {},
   "outputs": [],
   "source": [
    "with open('log_extraction_prompt.md','r') as f:\n",
    "    base_prompt = f.read()"
   ]
  },
  {
   "cell_type": "code",
   "execution_count": 57,
   "metadata": {},
   "outputs": [
    {
     "name": "stdout",
     "output_type": "stream",
     "text": [
      "## IDENTIY AND PURPOSE  you are an expert in extracting log data from a log file and formatting it as JSON.  ## STEPS  - read log data carefully - compare it to the following SQL table definitions  ```sql TABLE Message (     Message_time TIMESTAMP,     User_id VARCHAR(32),     Channel_name VARCHAR(32),     Channel_id INTEGER,     Message TEXT,     Mentions TEXT[],     Emojis TEXT[] );   TABLE Command (     Message_time TIMESTAMP,     User_id VARCHAR(32),     Command VARCHAR(32) );   TABLE System (     Datetime TIMESTAMP,     Level VARCHAR(8),     Module TEXT,     Context TEXT,     Message TEXT );  ```  - generate key:value pairs from the log that correspond to the fields in the table definitions  ## OUTPUT INSTRUCTIONS  you only output valid JSON and nothing else.  ## EXAMPLE  input:  05/01/2024 03:33:36 PM:WARNING:discord.client:client:295:__init__: PyNaCl is not installed, voice will NOT be supported\\n  JSON output:  {  \"Datetime\": \"2024-05-01T15:33:36\",  \"Level\": \"WARNING\",  \"Module\": \"discord.client\",  \"Context\": \"client:295:__init__\",  \"Message\": \"PyNaCl is not installed, voice will NOT be supported\" }  now it is your turn. DO NOT return anything other than valid json.  ## INPUT  input: 05/02/2024 02:36:05 PM:INFO:discord:bot:50:on_message: Message from a_na4603 in #project: [paloozabot](https://github.co\n",
      "m (ID: 1233476522032103444): @everyone \n",
      "\n",
      "update:\n",
      "\n",
      "we have given paloozabot robust logging capabilities. we plan to use the logs for understanding system (bot) and user be\n",
      "havior. logs need to be extracted, transformed, and loaded into a database - we laid the groundwork for this here:\n",
      "\n",
      "[paloozabot logs data model sketch](https://docs.google.com/document/d/1634WYdIV1gSJxX5kSBqkdombvkzXfMHB75_AlZfM1xs/edit\n",
      "?usp=sharing), Message ID: 1235600710037540895 JSON output:\n"
     ]
    }
   ],
   "source": [
    "base_prompt = base_prompt.replace(\"\\n\",\" \")\n",
    "test_input = base_prompt.format(log=\"\"\"05/02/2024 02:36:05 PM:INFO:discord:bot:50:on_message: Message from a_na4603 in #project: [paloozabot](https://github.co\n",
    "m (ID: 1233476522032103444): @everyone \n",
    "\n",
    "update:\n",
    "\n",
    "we have given paloozabot robust logging capabilities. we plan to use the logs for understanding system (bot) and user be\n",
    "havior. logs need to be extracted, transformed, and loaded into a database - we laid the groundwork for this here:\n",
    "\n",
    "[paloozabot logs data model sketch](https://docs.google.com/document/d/1634WYdIV1gSJxX5kSBqkdombvkzXfMHB75_AlZfM1xs/edit\n",
    "?usp=sharing), Message ID: 1235600710037540895\"\"\")\n",
    "print(test_input)"
   ]
  },
  {
   "cell_type": "code",
   "execution_count": 58,
   "metadata": {},
   "outputs": [],
   "source": [
    "test_output = get_completion(test_input)"
   ]
  },
  {
   "cell_type": "code",
   "execution_count": 60,
   "metadata": {},
   "outputs": [
    {
     "name": "stdout",
     "output_type": "stream",
     "text": [
      "{\n",
      "  \"Message_time\": \"2024-05-02T14:36:05\",\n",
      "  \"User_id\": \"a_na4603\",\n",
      "  \"Channel_name\": \"#project\",\n",
      "  \"Channel_id\": 1233476522032103444,\n",
      "  \"Message\": \"@everyone \\n\\nupdate:\\n\\nwe have given paloozabot robust logging capabilities. we plan to use the logs for understanding system (bot) and user behavior. logs need to be extracted, transformed, and loaded into a database - we laid the groundwork for this here:\\n\\n[paloozabot logs data model sketch](https://docs.google.com/document/d/1634WYdIV1gSJxX5kSBqkdombvkzXfMHB75_AlZfM1xs/edit?usp=sharing), Message ID: 1235600710037540895\",\n",
      "  \"Mentions\": [\"@everyone\"],\n",
      "  \"Emojis\": []\n",
      "}\n"
     ]
    }
   ],
   "source": [
    "print(test_output)"
   ]
  },
  {
   "cell_type": "code",
   "execution_count": 61,
   "metadata": {},
   "outputs": [
    {
     "data": {
      "text/plain": [
       "449.75"
      ]
     },
     "execution_count": 61,
     "metadata": {},
     "output_type": "execute_result"
    }
   ],
   "source": [
    "len(test_input)/4"
   ]
  },
  {
   "cell_type": "code",
   "execution_count": 62,
   "metadata": {},
   "outputs": [
    {
     "data": {
      "text/plain": [
       "156.5"
      ]
     },
     "execution_count": 62,
     "metadata": {},
     "output_type": "execute_result"
    }
   ],
   "source": [
    "len(test_output)/4"
   ]
  },
  {
   "cell_type": "code",
   "execution_count": 65,
   "metadata": {},
   "outputs": [
    {
     "data": {
      "text/plain": [
       "0.0045000000000000005"
      ]
     },
     "execution_count": 65,
     "metadata": {},
     "output_type": "execute_result"
    }
   ],
   "source": [
    "(10/1_000_000)*450"
   ]
  },
  {
   "cell_type": "code",
   "execution_count": null,
   "metadata": {},
   "outputs": [],
   "source": [
    "# ~4 characters = 1 token"
   ]
  },
  {
   "cell_type": "code",
   "execution_count": 51,
   "metadata": {},
   "outputs": [
    {
     "data": {
      "text/plain": [
       "{'Datetime': '2024-05-01T15:33:36',\n",
       " 'Level': 'DEBUG',\n",
       " 'Module': 'discord.client',\n",
       " 'Context': 'client:1989:event',\n",
       " 'Message': 'on_ready has successfully been registered as an event'}"
      ]
     },
     "execution_count": 51,
     "metadata": {},
     "output_type": "execute_result"
    }
   ],
   "source": [
    "import json\n",
    "\n",
    "json.loads(test_output)"
   ]
  },
  {
   "cell_type": "code",
   "execution_count": 52,
   "metadata": {},
   "outputs": [
    {
     "name": "stdout",
     "output_type": "stream",
     "text": [
      "0\n"
     ]
    }
   ],
   "source": [
    "errors = 0\n",
    "for i in range(20):\n",
    "\n",
    "    test_output = get_completion(test_input)\n",
    "\n",
    "    try:\n",
    "        json.loads(test_output)\n",
    "    except:\n",
    "        errors += 1\n",
    "\n",
    "print(errors)"
   ]
  },
  {
   "cell_type": "code",
   "execution_count": 39,
   "metadata": {},
   "outputs": [
    {
     "data": {
      "text/plain": [
       "'\\ninput: my input\\nJSON output: \\n'"
      ]
     },
     "execution_count": 39,
     "metadata": {},
     "output_type": "execute_result"
    }
   ],
   "source": [
    "# 50% error rate\n",
    "\n",
    "# chat bots are too chatty for this use case\n",
    "example_prompt = \\\n",
    "\"\"\"\n",
    "input: {input}\n",
    "JSON output: \n",
    "\"\"\"\n",
    "\n",
    "example_prompt.format(input = \"my input\")"
   ]
  },
  {
   "cell_type": "code",
   "execution_count": null,
   "metadata": {},
   "outputs": [],
   "source": [
    "# start with a log\n",
    "# then get a json\n",
    "# we turn it into a single tabular record\n",
    "# then we transfer it to the database\n",
    "\n",
    "\n",
    "# the AI is giving us different jsons (3 different kinds)\n",
    "# so it spits out a json\n",
    "# and we need to know what table it belongs to."
   ]
  },
  {
   "cell_type": "code",
   "execution_count": 53,
   "metadata": {},
   "outputs": [],
   "source": [
    "with open('paloozabot.log','r') as file:\n",
    "    logs = file.read() "
   ]
  },
  {
   "cell_type": "code",
   "execution_count": 54,
   "metadata": {},
   "outputs": [
    {
     "data": {
      "text/plain": [
       "'05/01/2024 03:33:36 PM:WARNING:discord.client:client:295:__init__: PyNaCl is not installed, voice will NOT be supported\\n05/01/2024 03:33:36 PM:DEBUG:discord.client:client:1989:event: on_ready has successfully been registered as an event\\n05/01/2024 03:33:36 PM:DEBUG:asyncio:selector_events:64:__init__: Using selector: EpollSelector\\n05/01/2024 03:33:36 PM:INFO:discord.client:client:603:login: logging in using static token\\n05/01/2024 03:33:37 PM:INFO:discord.gateway:gateway:561:received_message: Shard ID None has connected to Gateway (Session ID: 8d0f6a8f9f354eda4c4327c900d5c823).\\n05/01/2024 03:33:39 PM:INFO:discord:bot:30:on_ready: Logged in as paloozabot\\n05/01/2024 03:34:40 PM:INFO:discord:bot:35:hello: a_na4603 invoked hello command\\n05/01/2024 06:34:57 PM:INFO:discord.gateway:gateway:566:received_message: Shard ID None has successfully RESUMED session 8d0f6a8f9f354eda4c4327c900d5c823.\\n05/01/2024 08:19:51 PM:INFO:discord.gateway:gateway:566:received_message: Shard ID None has successfully RESUMED session 8d0f6a8f9f354eda4c4327c900d5c823.\\n05/01/2024 08:54:10 PM:WARNING:discord.client:client:295:__init__: PyNaCl is not installed, voice will NOT be supported\\n05/01/2024 08:54:10 PM:DEBUG:discord.client:client:1989:event: on_ready has successfully been registered as an event\\n05/01/2024 08:54:10 PM:DEBUG:discord.client:client:1989:event: on_message has successfully been registered as an event\\n05/01/2024 08:54:10 PM:DEBUG:discord.client:client:1989:event: on_member_join has successfully been registered as an event\\n05/01/2024 08:54:10 PM:DEBUG:discord.client:client:1989:event: on_reaction_add has successfully been registered as an event\\n05/01/2024 08:54:10 PM:DEBUG:asyncio:selector_events:64:__init__: Using selector: EpollSelector\\n05/01/2024 08:54:10 PM:INFO:discord.client:client:603:login: logging in using static token\\n05/01/2024 08:54:11 PM:INFO:discord.gateway:gateway:561:received_message: Shard ID None has connected to Gateway (Session ID: 17a27bca5b91cfd3fa4f6e52189c4a8e).\\n05/01/2024 08:54:13 PM:INFO:discord:bot:34:on_ready: logged in as paloozabot\\n05/01/2024 09:13:32 PM:INFO:discord:bot:42:on_message: Message from a_na4603 in #project: [kaggle-query](https://github. (ID: 1232791777208172596): @everyone \\n\\nupdate:\\n\\ngood session today. we start the process of pulling metadata for all kaggle datasets (still running!) and planned out next steps for data storage and AI search.\\n\\nhere\\'s our [user story doc](https://docs.google.com/document/d/1aRKU-iLoIUfsgBydMsxJ7HmIyzprqipbHhiD-6On9zc/edit?usp=sharing), Message ID: 1235338342900699187\\n05/01/2024 09:17:09 PM:INFO:discord:bot:42:on_message: Message from a_na4603 in #social (ID: 1225870954257973386): !hello, Message ID: 1235339254842789898\\n05/01/2024 09:18:01 PM:INFO:discord:bot:42:on_message: Message from a_na4603 in #social (ID: 1225870954257973386): !hello, Message ID: 1235339471948615861\\n05/01/2024 09:52:06 PM:INFO:discord:bot:42:on_message: Message from a_na4603 in #social (ID: 1225870954257973386): !hello, Message ID: 1235348049883041802\\n05/01/2024 09:58:23 PM:INFO:discord:bot:42:on_message: Message from a_na4603 in #social (ID: 1225870954257973386): !hello, Message ID: 1235349630653563012\\n05/01/2024 10:13:40 PM:WARNING:discord.client:client:295:__init__: PyNaCl is not installed, voice will NOT be supported\\n05/01/2024 10:13:40 PM:DEBUG:discord.client:client:1989:event: on_ready has successfully been registered as an event\\n05/01/2024 10:13:40 PM:DEBUG:discord.client:client:1989:event: on_message has successfully been registered as an event\\n05/01/2024 10:13:40 PM:DEBUG:discord.client:client:1989:event: on_member_join has successfully been registered as an event\\n05/01/2024 10:13:40 PM:DEBUG:discord.client:client:1989:event: on_reaction_add has successfully been registered as an event\\n05/01/2024 10:13:40 PM:DEBUG:asyncio:selector_events:64:__init__: Using selector: EpollSelector\\n05/01/2024 10:13:40 PM:INFO:discord.client:client:603:login: logging in using static token\\n05/01/2024 10:13:41 PM:INFO:discord.gateway:gateway:561:received_message: Shard ID None has connected to Gateway (Session ID: 2a8dc9859ae668348802e85e0aedb719).\\n05/01/2024 10:13:43 PM:INFO:discord:bot:42:on_ready: logged in as paloozabot\\n05/01/2024 10:13:55 PM:INFO:discord:bot:50:on_message: Message from a_na4603 in #social (ID: 1225870954257973386): !hello, Message ID: 1235353537693876284\\n05/01/2024 10:13:55 PM:INFO:discord:bot:34:hello: a_na4603 invoked hello command\\n05/01/2024 10:13:55 PM:INFO:discord:bot:50:on_message: Message from paloozabot#1522 in #social (ID: 1225870954257973386): hellooo there!, Message ID: 1235353538176094319\\n05/01/2024 10:54:53 PM:WARNING:discord.client:client:295:__init__: PyNaCl is not installed, voice will NOT be supported\\n05/01/2024 10:54:53 PM:DEBUG:discord.client:client:1989:event: on_ready has successfully been registered as an event\\n05/01/2024 10:54:53 PM:DEBUG:discord.client:client:1989:event: on_message has successfully been registered as an event\\n05/01/2024 10:54:53 PM:DEBUG:discord.client:client:1989:event: on_member_join has successfully been registered as an event\\n05/01/2024 10:54:53 PM:DEBUG:discord.client:client:1989:event: on_reaction_add has successfully been registered as an event\\n05/01/2024 10:54:53 PM:DEBUG:asyncio:selector_events:64:__init__: Using selector: EpollSelector\\n05/01/2024 10:54:53 PM:INFO:discord.client:client:603:login: logging in using static token\\n05/01/2024 10:54:53 PM:INFO:discord.gateway:gateway:561:received_message: Shard ID None has connected to Gateway (Session ID: 06aa70effc745080d4c7660360df46bd).\\n05/01/2024 10:54:55 PM:INFO:discord:bot:42:on_ready: logged in as paloozabot\\n05/01/2024 11:10:33 PM:INFO:discord:bot:50:on_message: Message from a_na4603 in #social (ID: 1225870954257973386): !hello, Message ID: 1235367789330563112\\n05/01/2024 11:10:33 PM:INFO:discord:bot:34:hello: a_na4603 invoked hello command\\n05/01/2024 11:10:33 PM:INFO:discord:bot:50:on_message: Message from paloozabot#1522 in #social (ID: 1225870954257973386): hellooo there!, Message ID: 1235367790257373246\\n05/01/2024 11:32:57 PM:INFO:discord:bot:50:on_message: Message from sush0119 in #social (ID: 1225870954257973386): , Message ID: 1235373429402636308\\n05/01/2024 11:33:19 PM:INFO:discord:bot:50:on_message: Message from sush0119 in #social (ID: 1225870954257973386): , Message ID: 1235373520414834790\\n05/01/2024 11:34:14 PM:INFO:discord:bot:67:on_reaction_add: a_na4603 added 👋 to message ID 1235373520414834790: \\n05/02/2024 12:11:35 AM:INFO:discord:bot:50:on_message: Message from a_na4603 in #social (ID: 1225870954257973386): hey <@1069143972804567070> welcome, Message ID: 1235383148682936450\\n05/02/2024 12:11:52 AM:INFO:discord:bot:50:on_message: Message from sush0119 in #social (ID: 1225870954257973386): <@385445389639221261>  thanks, Message ID: 1235383223568302162\\n05/02/2024 12:27:59 AM:INFO:discord:bot:50:on_message: Message from sofia_0204_02098 in #social (ID: 1225870954257973386): , Message ID: 1235387279351087164\\n05/02/2024 12:28:50 AM:INFO:discord:bot:50:on_message: Message from priyankay_41951 in #social (ID: 1225870954257973386): , Message ID: 1235387492371398767\\n05/02/2024 12:30:19 AM:INFO:discord:bot:50:on_message: Message from sofia_0204_02098 in #social (ID: 1225870954257973386): , Message ID: 1235387865530241084\\n05/02/2024 12:30:57 AM:INFO:discord:bot:50:on_message: Message from priyankay_41951 in #social (ID: 1225870954257973386): , Message ID: 1235388025698258965\\n05/02/2024 12:31:24 AM:INFO:discord.gateway:gateway:566:received_message: Shard ID None has successfully RESUMED session 06aa70effc745080d4c7660360df46bd.\\n05/02/2024 03:27:30 AM:INFO:discord.gateway:gateway:566:received_message: Shard ID None has successfully RESUMED session 06aa70effc745080d4c7660360df46bd.\\n05/02/2024 07:14:27 AM:INFO:discord.gateway:gateway:566:received_message: Shard ID None has successfully RESUMED session 06aa70effc745080d4c7660360df46bd.\\n05/02/2024 10:45:05 AM:INFO:discord.gateway:gateway:566:received_message: Shard ID None has successfully RESUMED session 06aa70effc745080d4c7660360df46bd.\\n05/02/2024 12:27:01 PM:INFO:discord.gateway:gateway:566:received_message: Shard ID None has successfully RESUMED session 06aa70effc745080d4c7660360df46bd.\\n05/02/2024 01:59:02 PM:INFO:discord.gateway:gateway:566:received_message: Shard ID None has successfully RESUMED session 06aa70effc745080d4c7660360df46bd.\\n05/02/2024 02:26:06 PM:INFO:discord:bot:67:on_reaction_add: a_na4603 added 🫡 to message ID 1235388025698258965: \\n05/02/2024 02:26:37 PM:INFO:discord:bot:67:on_reaction_add: a_na4603 added 🫡 to message ID 1235387865530241084: \\n05/02/2024 02:27:10 PM:INFO:discord:bot:50:on_message: Message from a_na4603 in #project: [kaggle-query](https://github. (ID: 1232791777208172596): 🫠, Message ID: 1235598464021430322\\n05/02/2024 02:36:05 PM:INFO:discord:bot:50:on_message: Message from a_na4603 in #project: [paloozabot](https://github.com (ID: 1233476522032103444): @everyone \\n\\nupdate:\\n\\nwe have given paloozabot robust logging capabilities. we plan to use the logs for understanding system (bot) and user behavior. logs need to be extracted, transformed, and loaded into a database - we laid the groundwork for this here:\\n\\n[paloozabot logs data model sketch](https://docs.google.com/document/d/1634WYdIV1gSJxX5kSBqkdombvkzXfMHB75_AlZfM1xs/edit?usp=sharing), Message ID: 1235600710037540895\\n05/02/2024 04:47:24 PM:INFO:discord.gateway:gateway:566:received_message: Shard ID None has successfully RESUMED session 06aa70effc745080d4c7660360df46bd.\\n05/02/2024 05:33:08 PM:INFO:discord:bot:50:on_message: Message from a_na4603 in #project: [kaggle-query](https://github. (ID: 1232791777208172596): @everyone \\n\\nupdate:\\n\\nI manually terminated the api calls after 22,000 pages after suspecting that something is not right. recall there\\'s supposed to be 20 datasets per page, which implies 440,000 dataset records were pulled. \\n\\nIt turns out 9900 dataset records were pulled.\\n\\n I don\\'t know why but luckily we do not need to bother figuring it out, because:\\n\\nit turns out Kaggle shares it\\'s data publicly [here](https://www.kaggle.com/datasets/kaggle/meta-kaggle)\\n\\nThey share a sanitized version of their database!\\n\\nI do not see dataset URLs anywhere in the database - which we need for scraping - but I believe we can construct the URLs as follows:\\n\\na kaggle dataset URL has the structure https://kaggle.com/datasets/{user}/{dataset} if the dataset is made by a user account or https://kaggle.com/datasets/{org}/{dataset} if the dataset is made by an organization.\\n\\nthe {user/org} and {dataset} attributes can be found in the data.\\n\\nso our approach has changed and we definitely lucked out a bit., Message ID: 1235645265860493384\\n05/02/2024 07:08:04 PM:INFO:discord.gateway:gateway:566:received_message: Shard ID None has successfully RESUMED session 06aa70effc745080d4c7660360df46bd.\\n05/02/2024 08:30:21 PM:INFO:discord.gateway:gateway:566:received_message: Shard ID None has successfully RESUMED session 06aa70effc745080d4c7660360df46bd.\\n05/02/2024 09:21:33 PM:INFO:discord:bot:50:on_message: Message from a_na4603 in #open-issues (ID: 1235686128036741253): !get_issues, Message ID: 1235702747144388678\\n05/02/2024 09:21:33 PM:ERROR:discord.ext.commands.bot:bot:348:on_command_error: Ignoring exception in command None\\ndiscord.ext.commands.errors.CommandNotFound: Command \"get_issues\" is not found\\n05/02/2024 09:22:32 PM:INFO:discord:bot:50:on_message: Message from a_na4603 in #open-issues (ID: 1235686128036741253): !get_issues aradmschool unsupervised, Message ID: 1235702997040894074\\n05/02/2024 09:22:32 PM:ERROR:discord.ext.commands.bot:bot:348:on_command_error: Ignoring exception in command None\\ndiscord.ext.commands.errors.CommandNotFound: Command \"get_issues\" is not found\\n05/02/2024 09:47:43 PM:INFO:discord.gateway:gateway:566:received_message: Shard ID None has successfully RESUMED session 06aa70effc745080d4c7660360df46bd.\\n05/03/2024 01:41:54 AM:INFO:discord.gateway:gateway:566:received_message: Shard ID None has successfully RESUMED session 06aa70effc745080d4c7660360df46bd.\\n05/03/2024 04:48:24 AM:INFO:discord.gateway:gateway:566:received_message: Shard ID None has successfully RESUMED session 06aa70effc745080d4c7660360df46bd.\\n05/03/2024 05:56:57 AM:INFO:discord.gateway:gateway:566:received_message: Shard ID None has successfully RESUMED session 06aa70effc745080d4c7660360df46bd.\\n05/03/2024 06:34:32 AM:INFO:discord:bot:50:on_message: Message from simran_64823 in #social (ID: 1225870954257973386): , Message ID: 1235841912271802388\\n05/03/2024 06:52:52 AM:INFO:discord.gateway:gateway:566:received_message: Shard ID None has successfully RESUMED session 06aa70effc745080d4c7660360df46bd.\\n05/03/2024 07:10:44 AM:INFO:discord.gateway:gateway:566:received_message: Shard ID None has successfully RESUMED session 06aa70effc745080d4c7660360df46bd.\\n05/03/2024 07:11:26 AM:INFO:discord.gateway:gateway:566:received_message: Shard ID None has successfully RESUMED session 06aa70effc745080d4c7660360df46bd.\\n05/03/2024 07:26:16 AM:INFO:discord.gateway:gateway:566:received_message: Shard ID None has successfully RESUMED session 06aa70effc745080d4c7660360df46bd.\\n05/03/2024 08:09:36 AM:INFO:discord.gateway:gateway:566:received_message: Shard ID None has successfully RESUMED session 06aa70effc745080d4c7660360df46bd.\\n05/03/2024 08:59:07 AM:INFO:discord.gateway:gateway:566:received_message: Shard ID None has successfully RESUMED session 06aa70effc745080d4c7660360df46bd.\\n05/03/2024 11:59:43 AM:INFO:discord.gateway:gateway:566:received_message: Shard ID None has successfully RESUMED session 06aa70effc745080d4c7660360df46bd.\\n05/03/2024 12:11:56 PM:INFO:discord.gateway:gateway:566:received_message: Shard ID None has successfully RESUMED session 06aa70effc745080d4c7660360df46bd.\\n05/03/2024 12:54:51 PM:INFO:discord.gateway:gateway:566:received_message: Shard ID None has successfully RESUMED session 06aa70effc745080d4c7660360df46bd.\\n05/03/2024 03:15:28 PM:INFO:discord.gateway:gateway:566:received_message: Shard ID None has successfully RESUMED session 06aa70effc745080d4c7660360df46bd.\\n05/03/2024 03:40:40 PM:INFO:discord.gateway:gateway:566:received_message: Shard ID None has successfully RESUMED session 06aa70effc745080d4c7660360df46bd.\\n05/03/2024 03:45:15 PM:INFO:discord:bot:50:on_message: Message from a_na4603 in #open-issues (ID: 1235686128036741253): !hello, Message ID: 1235980505308987412\\n05/03/2024 03:45:16 PM:INFO:discord:bot:34:hello: a_na4603 invoked hello command\\n05/03/2024 03:45:16 PM:INFO:discord:bot:50:on_message: Message from paloozabot#1522 in #open-issues (ID: 1235686128036741253): hellooo there!, Message ID: 1235980506978324550\\n05/03/2024 04:43:53 PM:INFO:discord.gateway:gateway:566:received_message: Shard ID None has successfully RESUMED session 06aa70effc745080d4c7660360df46bd.\\n05/03/2024 04:47:10 PM:INFO:discord:bot:50:on_message: Message from ebenezer0533 in #social (ID: 1225870954257973386): , Message ID: 1235996083998556190\\n05/03/2024 07:10:16 PM:INFO:discord.gateway:gateway:566:received_message: Shard ID None has successfully RESUMED session 06aa70effc745080d4c7660360df46bd.\\n05/03/2024 07:34:29 PM:INFO:discord.gateway:gateway:566:received_message: Shard ID None has successfully RESUMED session 06aa70effc745080d4c7660360df46bd.\\n05/03/2024 09:53:04 PM:WARNING:discord.client:client:295:__init__: PyNaCl is not installed, voice will NOT be supported\\n05/03/2024 09:53:04 PM:DEBUG:discord.client:client:1989:event: on_ready has successfully been registered as an event\\n05/03/2024 09:53:04 PM:DEBUG:discord.client:client:1989:event: on_message has successfully been registered as an event\\n05/03/2024 09:53:04 PM:DEBUG:discord.client:client:1989:event: on_member_join has successfully been registered as an event\\n05/03/2024 09:53:04 PM:DEBUG:discord.client:client:1989:event: on_reaction_add has successfully been registered as an event\\n05/03/2024 09:53:04 PM:DEBUG:asyncio:selector_events:64:__init__: Using selector: EpollSelector\\n05/03/2024 09:53:04 PM:INFO:discord.client:client:603:login: logging in using static token\\n05/03/2024 09:53:05 PM:INFO:discord.gateway:gateway:561:received_message: Shard ID None has connected to Gateway (Session ID: 47da0e432872b0d38baa5acf8fee8604).\\n05/03/2024 09:53:07 PM:INFO:discord:bot:42:on_ready: logged in as hootza\\n05/03/2024 09:53:12 PM:INFO:discord:bot:50:on_message: Message from a_na4603 in #open-issues (ID: 1235686128036741253): !hello, Message ID: 1236073100416909466\\n05/03/2024 09:53:12 PM:INFO:discord:bot:34:hello: a_na4603 invoked hello command\\n05/03/2024 09:53:12 PM:INFO:discord:bot:50:on_message: Message from hootza#1522 in #open-issues (ID: 1235686128036741253): hellooo there!, Message ID: 1236073101167562843\\n05/03/2024 10:01:07 PM:INFO:discord:bot:50:on_message: Message from git-hootza#1656 in #social (ID: 1225870954257973386): , Message ID: 1236075093021560892\\n05/03/2024 10:02:44 PM:INFO:discord:bot:50:on_message: Message from a_na4603 in #open-issues (ID: 1235686128036741253): !get_issues aradmschool unsupervised, Message ID: 1236075498963079178\\n05/03/2024 10:02:44 PM:ERROR:discord.ext.commands.bot:bot:348:on_command_error: Ignoring exception in command None\\ndiscord.ext.commands.errors.CommandNotFound: Command \"get_issues\" is not found\\n05/03/2024 10:27:45 PM:INFO:discord:bot:50:on_message: Message from a_na4603 in #open-issues (ID: 1235686128036741253): ?get_issues aradmschool unsupervised, Message ID: 1236081797452796024\\n05/03/2024 10:27:46 PM:INFO:discord:bot:50:on_message: Message from git-hootza#1656 in #open-issues (ID: 1235686128036741253): Issue 12: organize repo after first pass at analysis, Message ID: 1236081799151747155\\n05/03/2024 10:27:46 PM:INFO:discord:bot:50:on_message: Message from git-hootza#1656 in #open-issues (ID: 1235686128036741253): Issue 11: visualize clusters, Message ID: 1236081800590131210\\n05/03/2024 10:27:46 PM:INFO:discord:bot:50:on_message: Message from git-hootza#1656 in #open-issues (ID: 1235686128036741253): Issue 10: check for cluster agreement/concurrence, Message ID: 1236081801957478430\\n05/03/2024 10:27:47 PM:INFO:discord:bot:50:on_message: Message from git-hootza#1656 in #open-issues (ID: 1235686128036741253): Issue 9: explore log transforming right skewed columns, Message ID: 1236081802821636117\\n05/03/2024 10:27:47 PM:INFO:discord:bot:50:on_message: Message from git-hootza#1656 in #open-issues (ID: 1235686128036741253): Issue 8: scale the data, Message ID: 1236081804025397251\\n05/03/2024 10:27:47 PM:INFO:discord:bot:50:on_message: Message from git-hootza#1656 in #open-issues (ID: 1235686128036741253): Issue 7: deal with outliers and data with extreme distributions, Message ID: 1236081804382044253\\n05/03/2024 10:27:52 PM:INFO:discord:bot:50:on_message: Message from git-hootza#1656 in #open-issues (ID: 1235686128036741253): Issue 6: learn about agglomerative clustering, Message ID: 1236081825097580575\\n05/03/2024 10:27:52 PM:INFO:discord:bot:50:on_message: Message from git-hootza#1656 in #open-issues (ID: 1235686128036741253): Issue 5: learn about K means, Message ID: 1236081826389426237\\n05/03/2024 10:27:52 PM:INFO:discord:bot:50:on_message: Message from git-hootza#1656 in #open-issues (ID: 1235686128036741253): Issue 4: further EDA on distributions, Message ID: 1236081826972438599\\n05/03/2024 10:27:53 PM:INFO:discord:bot:50:on_message: Message from git-hootza#1656 in #open-issues (ID: 1235686128036741253): Issue 3: evaluate clusters for their real-life meaning, Message ID: 1236081828033724526\\n05/03/2024 10:27:53 PM:INFO:discord:bot:50:on_message: Message from git-hootza#1656 in #open-issues (ID: 1235686128036741253): Issue 2: cluster the data, Message ID: 1236081828906139758\\n05/03/2024 10:27:57 PM:INFO:discord:bot:50:on_message: Message from git-hootza#1656 in #open-issues (ID: 1235686128036741253): Issue 1: complete regression based imputation experiment, Message ID: 1236081846932996156\\n05/03/2024 10:42:45 PM:INFO:discord:bot:50:on_message: Message from a_na4603 in #open-issues (ID: 1235686128036741253): ?get_issues aradmschool paloozabot, Message ID: 1236085571190001744\\n05/03/2024 10:42:45 PM:INFO:discord:bot:50:on_message: Message from git-hootza#1656 in #open-issues (ID: 1235686128036741253): Issue 3: write SQL code to create log DB according to data model, Message ID: 1236085572330590290\\n05/03/2024 10:42:46 PM:INFO:discord:bot:50:on_message: Message from git-hootza#1656 in #open-issues (ID: 1235686128036741253): Issue 2: download/install postgres on vm, Message ID: 1236085573559652393\\n05/03/2024 11:15:30 PM:INFO:discord.gateway:gateway:566:received_message: Shard ID None has successfully RESUMED session 47da0e432872b0d38baa5acf8fee8604.\\n05/04/2024 12:14:15 AM:INFO:discord.gateway:gateway:566:received_message: Shard ID None has successfully RESUMED session 47da0e432872b0d38baa5acf8fee8604.\\n05/04/2024 02:40:42 AM:INFO:discord.gateway:gateway:566:received_message: Shard ID None has successfully RESUMED session 47da0e432872b0d38baa5acf8fee8604.\\n05/04/2024 04:24:33 AM:INFO:discord.gateway:gateway:566:received_message: Shard ID None has successfully RESUMED session 47da0e432872b0d38baa5acf8fee8604.\\n05/04/2024 04:40:27 AM:INFO:discord.gateway:gateway:566:received_message: Shard ID None has successfully RESUMED session 47da0e432872b0d38baa5acf8fee8604.\\n05/04/2024 05:31:50 AM:INFO:discord.gateway:gateway:566:received_message: Shard ID None has successfully RESUMED session 47da0e432872b0d38baa5acf8fee8604.\\n05/04/2024 06:34:24 AM:INFO:discord.gateway:gateway:566:received_message: Shard ID None has successfully RESUMED session 47da0e432872b0d38baa5acf8fee8604.\\n05/04/2024 07:52:59 AM:INFO:discord.gateway:gateway:566:received_message: Shard ID None has successfully RESUMED session 47da0e432872b0d38baa5acf8fee8604.\\n05/04/2024 08:49:26 AM:INFO:discord.gateway:gateway:566:received_message: Shard ID None has successfully RESUMED session 47da0e432872b0d38baa5acf8fee8604.\\n05/04/2024 10:43:15 AM:INFO:discord.gateway:gateway:566:received_message: Shard ID None has successfully RESUMED session 47da0e432872b0d38baa5acf8fee8604.\\n05/04/2024 02:15:17 PM:INFO:discord.gateway:gateway:566:received_message: Shard ID None has successfully RESUMED session 47da0e432872b0d38baa5acf8fee8604.\\n05/04/2024 04:11:43 PM:INFO:discord.gateway:gateway:566:received_message: Shard ID None has successfully RESUMED session 47da0e432872b0d38baa5acf8fee8604.\\n05/04/2024 05:24:55 PM:INFO:discord.gateway:gateway:566:received_message: Shard ID None has successfully RESUMED session 47da0e432872b0d38baa5acf8fee8604.\\n05/04/2024 07:10:40 PM:INFO:discord:bot:50:on_message: Message from a_na4603 in #project: [CC clustering](https://github. (ID: 1225875744891207761): @everyone \\n\\nupdate:, Message ID: 1236394587451293836\\n05/04/2024 07:46:49 PM:INFO:discord.gateway:gateway:566:received_message: Shard ID None has successfully RESUMED session 47da0e432872b0d38baa5acf8fee8604.\\n05/04/2024 11:28:52 PM:INFO:discord.gateway:gateway:566:received_message: Shard ID None has successfully RESUMED session 47da0e432872b0d38baa5acf8fee8604.\\n05/05/2024 01:22:44 AM:INFO:discord.gateway:gateway:566:received_message: Shard ID None has successfully RESUMED session 47da0e432872b0d38baa5acf8fee8604.\\n05/05/2024 01:55:45 AM:INFO:discord.gateway:gateway:566:received_message: Shard ID None has successfully RESUMED session 47da0e432872b0d38baa5acf8fee8604.\\n05/05/2024 04:34:44 AM:INFO:discord.gateway:gateway:566:received_message: Shard ID None has successfully RESUMED session 47da0e432872b0d38baa5acf8fee8604.\\n05/05/2024 05:49:34 AM:INFO:discord.gateway:gateway:566:received_message: Shard ID None has successfully RESUMED session 47da0e432872b0d38baa5acf8fee8604.\\n05/05/2024 06:21:53 AM:INFO:discord.gateway:gateway:566:received_message: Shard ID None has successfully RESUMED session 47da0e432872b0d38baa5acf8fee8604.\\n05/05/2024 06:47:01 AM:INFO:discord.gateway:gateway:566:received_message: Shard ID None has successfully RESUMED session 47da0e432872b0d38baa5acf8fee8604.\\n05/05/2024 10:23:50 AM:INFO:discord.gateway:gateway:566:received_message: Shard ID None has successfully RESUMED session 47da0e432872b0d38baa5acf8fee8604.\\n05/05/2024 11:25:08 AM:INFO:discord.gateway:gateway:566:received_message: Shard ID None has successfully RESUMED session 47da0e432872b0d38baa5acf8fee8604.\\n05/05/2024 02:50:15 PM:INFO:discord.gateway:gateway:566:received_message: Shard ID None has successfully RESUMED session 47da0e432872b0d38baa5acf8fee8604.\\n05/05/2024 03:54:04 PM:INFO:discord.gateway:gateway:566:received_message: Shard ID None has successfully RESUMED session 47da0e432872b0d38baa5acf8fee8604.\\n05/05/2024 04:32:31 PM:INFO:discord.gateway:gateway:566:received_message: Shard ID None has successfully RESUMED session 47da0e432872b0d38baa5acf8fee8604.\\n05/05/2024 06:23:04 PM:INFO:discord.gateway:gateway:566:received_message: Shard ID None has successfully RESUMED session 47da0e432872b0d38baa5acf8fee8604.\\n05/05/2024 08:25:21 PM:INFO:discord.gateway:gateway:566:received_message: Shard ID None has successfully RESUMED session 47da0e432872b0d38baa5acf8fee8604.\\n05/05/2024 09:35:45 PM:INFO:discord.gateway:gateway:566:received_message: Shard ID None has successfully RESUMED session 47da0e432872b0d38baa5acf8fee8604.\\n05/05/2024 10:17:09 PM:INFO:discord.gateway:gateway:566:received_message: Shard ID None has successfully RESUMED session 47da0e432872b0d38baa5acf8fee8604.\\n05/06/2024 02:16:26 AM:INFO:discord.gateway:gateway:566:received_message: Shard ID None has successfully RESUMED session 47da0e432872b0d38baa5acf8fee8604.\\n05/06/2024 02:35:26 AM:INFO:discord.gateway:gateway:566:received_message: Shard ID None has successfully RESUMED session 47da0e432872b0d38baa5acf8fee8604.\\n05/06/2024 03:14:39 AM:INFO:discord.gateway:gateway:566:received_message: Shard ID None has successfully RESUMED session 47da0e432872b0d38baa5acf8fee8604.\\n05/06/2024 04:51:01 AM:INFO:discord.gateway:gateway:566:received_message: Shard ID None has successfully RESUMED session 47da0e432872b0d38baa5acf8fee8604.\\n05/06/2024 07:33:39 AM:INFO:discord.gateway:gateway:566:received_message: Shard ID None has successfully RESUMED session 47da0e432872b0d38baa5acf8fee8604.\\n05/06/2024 09:16:15 AM:INFO:discord.gateway:gateway:566:received_message: Shard ID None has successfully RESUMED session 47da0e432872b0d38baa5acf8fee8604.\\n05/06/2024 10:04:42 AM:INFO:discord.gateway:gateway:566:received_message: Shard ID None has successfully RESUMED session 47da0e432872b0d38baa5acf8fee8604.\\n05/06/2024 01:30:49 PM:INFO:discord.gateway:gateway:566:received_message: Shard ID None has successfully RESUMED session 47da0e432872b0d38baa5acf8fee8604.\\n05/06/2024 01:34:05 PM:INFO:discord.gateway:gateway:566:received_message: Shard ID None has successfully RESUMED session 47da0e432872b0d38baa5acf8fee8604.\\n05/06/2024 02:09:15 PM:INFO:discord.gateway:gateway:566:received_message: Shard ID None has successfully RESUMED session 47da0e432872b0d38baa5acf8fee8604.\\n05/06/2024 04:34:48 PM:INFO:discord.gateway:gateway:566:received_message: Shard ID None has successfully RESUMED session 47da0e432872b0d38baa5acf8fee8604.\\n05/06/2024 07:35:21 PM:INFO:discord.gateway:gateway:566:received_message: Shard ID None has successfully RESUMED session 47da0e432872b0d38baa5acf8fee8604.\\n05/06/2024 09:01:17 PM:INFO:discord.gateway:gateway:566:received_message: Shard ID None has successfully RESUMED session 47da0e432872b0d38baa5acf8fee8604.\\n05/06/2024 09:01:59 PM:INFO:discord.gateway:gateway:566:received_message: Shard ID None has successfully RESUMED session 47da0e432872b0d38baa5acf8fee8604.\\n05/07/2024 12:07:44 AM:INFO:discord.gateway:gateway:566:received_message: Shard ID None has successfully RESUMED session 47da0e432872b0d38baa5acf8fee8604.\\n05/07/2024 02:21:09 AM:INFO:discord.gateway:gateway:566:received_message: Shard ID None has successfully RESUMED session 47da0e432872b0d38baa5acf8fee8604.\\n05/07/2024 05:41:04 AM:INFO:discord.gateway:gateway:566:received_message: Shard ID None has successfully RESUMED session 47da0e432872b0d38baa5acf8fee8604.\\n05/07/2024 09:28:18 AM:INFO:discord.gateway:gateway:566:received_message: Shard ID None has successfully RESUMED session 47da0e432872b0d38baa5acf8fee8604.\\n05/07/2024 01:04:12 PM:INFO:discord.gateway:gateway:566:received_message: Shard ID None has successfully RESUMED session 47da0e432872b0d38baa5acf8fee8604.\\n05/07/2024 01:08:33 PM:INFO:discord.gateway:gateway:566:received_message: Shard ID None has successfully RESUMED session 47da0e432872b0d38baa5acf8fee8604.\\n05/07/2024 02:11:48 PM:INFO:discord.gateway:gateway:566:received_message: Shard ID None has successfully RESUMED session 47da0e432872b0d38baa5acf8fee8604.\\n05/07/2024 02:13:11 PM:INFO:discord.gateway:gateway:566:received_message: Shard ID None has successfully RESUMED session 47da0e432872b0d38baa5acf8fee8604.\\n05/07/2024 03:19:31 PM:INFO:discord.gateway:gateway:566:received_message: Shard ID None has successfully RESUMED session 47da0e432872b0d38baa5acf8fee8604.\\n05/07/2024 06:19:42 PM:INFO:discord.gateway:gateway:566:received_message: Shard ID None has successfully RESUMED session 47da0e432872b0d38baa5acf8fee8604.\\n05/07/2024 06:48:34 PM:INFO:discord.gateway:gateway:566:received_message: Shard ID None has successfully RESUMED session 47da0e432872b0d38baa5acf8fee8604.\\n05/07/2024 09:38:11 PM:INFO:discord.gateway:gateway:566:received_message: Shard ID None has successfully RESUMED session 47da0e432872b0d38baa5acf8fee8604.\\n05/07/2024 11:08:47 PM:INFO:discord.gateway:gateway:566:received_message: Shard ID None has successfully RESUMED session 47da0e432872b0d38baa5acf8fee8604.\\n05/07/2024 11:10:20 PM:INFO:discord.gateway:gateway:566:received_message: Shard ID None has successfully RESUMED session 47da0e432872b0d38baa5acf8fee8604.\\n05/08/2024 01:08:45 AM:INFO:discord.gateway:gateway:566:received_message: Shard ID None has successfully RESUMED session 47da0e432872b0d38baa5acf8fee8604.\\n05/08/2024 02:36:26 AM:INFO:discord.gateway:gateway:566:received_message: Shard ID None has successfully RESUMED session 47da0e432872b0d38baa5acf8fee8604.\\n05/08/2024 04:34:40 AM:INFO:discord.gateway:gateway:566:received_message: Shard ID None has successfully RESUMED session 47da0e432872b0d38baa5acf8fee8604.\\n05/08/2024 08:26:05 AM:INFO:discord.gateway:gateway:566:received_message: Shard ID None has successfully RESUMED session 47da0e432872b0d38baa5acf8fee8604.\\n05/08/2024 08:47:10 AM:INFO:discord.gateway:gateway:566:received_message: Shard ID None has successfully RESUMED session 47da0e432872b0d38baa5acf8fee8604.\\n05/08/2024 09:45:25 AM:INFO:discord.gateway:gateway:566:received_message: Shard ID None has successfully RESUMED session 47da0e432872b0d38baa5acf8fee8604.\\n05/08/2024 10:42:39 AM:INFO:discord.gateway:gateway:566:received_message: Shard ID None has successfully RESUMED session 47da0e432872b0d38baa5acf8fee8604.\\n05/08/2024 11:40:47 AM:INFO:discord.gateway:gateway:566:received_message: Shard ID None has successfully RESUMED session 47da0e432872b0d38baa5acf8fee8604.\\n05/08/2024 12:27:25 PM:INFO:discord.gateway:gateway:566:received_message: Shard ID None has successfully RESUMED session 47da0e432872b0d38baa5acf8fee8604.\\n05/08/2024 01:10:13 PM:INFO:discord.gateway:gateway:566:received_message: Shard ID None has successfully RESUMED session 47da0e432872b0d38baa5acf8fee8604.\\n05/08/2024 03:23:11 PM:INFO:discord.gateway:gateway:566:received_message: Shard ID None has successfully RESUMED session 47da0e432872b0d38baa5acf8fee8604.\\n05/08/2024 04:05:36 PM:INFO:discord.gateway:gateway:566:received_message: Shard ID None has successfully RESUMED session 47da0e432872b0d38baa5acf8fee8604.\\n05/08/2024 06:31:30 PM:INFO:discord.gateway:gateway:566:received_message: Shard ID None has successfully RESUMED session 47da0e432872b0d38baa5acf8fee8604.\\n05/08/2024 07:00:53 PM:INFO:discord.gateway:gateway:566:received_message: Shard ID None has successfully RESUMED session 47da0e432872b0d38baa5acf8fee8604.\\n05/08/2024 07:45:51 PM:INFO:discord.gateway:gateway:566:received_message: Shard ID None has successfully RESUMED session 47da0e432872b0d38baa5acf8fee8604.\\n05/08/2024 10:53:43 PM:INFO:discord.gateway:gateway:566:received_message: Shard ID None has successfully RESUMED session 47da0e432872b0d38baa5acf8fee8604.\\n'"
      ]
     },
     "execution_count": 54,
     "metadata": {},
     "output_type": "execute_result"
    }
   ],
   "source": [
    "logs"
   ]
  },
  {
   "cell_type": "code",
   "execution_count": 56,
   "metadata": {},
   "outputs": [
    {
     "data": {
      "text/plain": [
       "8041.0"
      ]
     },
     "execution_count": 56,
     "metadata": {},
     "output_type": "execute_result"
    }
   ],
   "source": [
    "len(logs)/4"
   ]
  },
  {
   "cell_type": "code",
   "execution_count": null,
   "metadata": {},
   "outputs": [],
   "source": []
  }
 ],
 "metadata": {
  "kernelspec": {
   "display_name": "basic",
   "language": "python",
   "name": "python3"
  },
  "language_info": {
   "codemirror_mode": {
    "name": "ipython",
    "version": 3
   },
   "file_extension": ".py",
   "mimetype": "text/x-python",
   "name": "python",
   "nbconvert_exporter": "python",
   "pygments_lexer": "ipython3",
   "version": "3.11.7"
  },
  "orig_nbformat": 4
 },
 "nbformat": 4,
 "nbformat_minor": 2
}
