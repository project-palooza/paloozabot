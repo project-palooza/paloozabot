{
 "cells": [
  {
   "cell_type": "code",
   "execution_count": 1,
   "metadata": {},
   "outputs": [],
   "source": [
    "with open('paloozabot.log','r') as file:\n",
    "    logs = file.readlines() "
   ]
  },
  {
   "cell_type": "code",
   "execution_count": 2,
   "metadata": {},
   "outputs": [],
   "source": [
    "line = logs[1]"
   ]
  },
  {
   "cell_type": "code",
   "execution_count": 3,
   "metadata": {},
   "outputs": [
    {
     "data": {
      "text/plain": [
       "'05/01/2024 03:33:36 PM:WARNING:discord.client:client:295:__init__: PyNaCl is not installed, voice will NOT be supported\\n'"
      ]
     },
     "execution_count": 3,
     "metadata": {},
     "output_type": "execute_result"
    }
   ],
   "source": [
    "line"
   ]
  },
  {
   "cell_type": "code",
   "execution_count": 8,
   "metadata": {},
   "outputs": [],
   "source": [
    "import openai\n",
    "from dotenv import load_dotenv,find_dotenv\n",
    "import os\n",
    "\n",
    "_ = load_dotenv(find_dotenv())\n",
    "api_key = os.getenv(\"OPENAI_API_KEY\")\n",
    "\n",
    "openai.api_key = api_key"
   ]
  },
  {
   "cell_type": "code",
   "execution_count": 9,
   "metadata": {},
   "outputs": [],
   "source": [
    "def get_completion(prompt, model=\"gpt-4\"):\n",
    "    '''basic completion from gpt4'''\n",
    "    messages = [{\"role\": \"user\", \"content\": prompt}]\n",
    "    response = openai.ChatCompletion.create(\n",
    "        model=model,\n",
    "        messages=messages,\n",
    "        temperature=0, \n",
    "    )\n",
    "    return response.choices[0].message[\"content\"]"
   ]
  },
  {
   "cell_type": "code",
   "execution_count": 10,
   "metadata": {},
   "outputs": [
    {
     "data": {
      "text/plain": [
       "'The Philadelphia Phillies won the World Series in 1980.'"
      ]
     },
     "execution_count": 10,
     "metadata": {},
     "output_type": "execute_result"
    }
   ],
   "source": [
    "get_completion(\"who won the world series in 1980?\")"
   ]
  },
  {
   "cell_type": "code",
   "execution_count": 47,
   "metadata": {},
   "outputs": [],
   "source": [
    "with open('log_extraction_prompt.md','r') as f:\n",
    "    base_prompt = f.read()"
   ]
  },
  {
   "cell_type": "code",
   "execution_count": 57,
   "metadata": {},
   "outputs": [
    {
     "name": "stdout",
     "output_type": "stream",
     "text": [
      "## IDENTIY AND PURPOSE  you are an expert in extracting log data from a log file and formatting it as JSON.  ## STEPS  - read log data carefully - compare it to the following SQL table definitions  ```sql TABLE Message (     Message_time TIMESTAMP,     User_id VARCHAR(32),     Channel_name VARCHAR(32),     Channel_id INTEGER,     Message TEXT,     Mentions TEXT[],     Emojis TEXT[] );   TABLE Command (     Message_time TIMESTAMP,     User_id VARCHAR(32),     Command VARCHAR(32) );   TABLE System (     Datetime TIMESTAMP,     Level VARCHAR(8),     Module TEXT,     Context TEXT,     Message TEXT );  ```  - generate key:value pairs from the log that correspond to the fields in the table definitions  ## OUTPUT INSTRUCTIONS  you only output valid JSON and nothing else.  ## EXAMPLE  input:  05/01/2024 03:33:36 PM:WARNING:discord.client:client:295:__init__: PyNaCl is not installed, voice will NOT be supported\\n  JSON output:  {  \"Datetime\": \"2024-05-01T15:33:36\",  \"Level\": \"WARNING\",  \"Module\": \"discord.client\",  \"Context\": \"client:295:__init__\",  \"Message\": \"PyNaCl is not installed, voice will NOT be supported\" }  now it is your turn. DO NOT return anything other than valid json.  ## INPUT  input: 05/02/2024 02:36:05 PM:INFO:discord:bot:50:on_message: Message from a_na4603 in #project: [paloozabot](https://github.co\n",
      "m (ID: 1233476522032103444): @everyone \n",
      "\n",
      "update:\n",
      "\n",
      "we have given paloozabot robust logging capabilities. we plan to use the logs for understanding system (bot) and user be\n",
      "havior. logs need to be extracted, transformed, and loaded into a database - we laid the groundwork for this here:\n",
      "\n",
      "[paloozabot logs data model sketch](https://docs.google.com/document/d/1634WYdIV1gSJxX5kSBqkdombvkzXfMHB75_AlZfM1xs/edit\n",
      "?usp=sharing), Message ID: 1235600710037540895 JSON output:\n"
     ]
    }
   ],
   "source": [
    "base_prompt = base_prompt.replace(\"\\n\",\" \")\n",
    "test_input = base_prompt.format(log=\"\"\"05/02/2024 02:36:05 PM:INFO:discord:bot:50:on_message: Message from a_na4603 in #project: [paloozabot](https://github.co\n",
    "m (ID: 1233476522032103444): @everyone \n",
    "\n",
    "update:\n",
    "\n",
    "we have given paloozabot robust logging capabilities. we plan to use the logs for understanding system (bot) and user be\n",
    "havior. logs need to be extracted, transformed, and loaded into a database - we laid the groundwork for this here:\n",
    "\n",
    "[paloozabot logs data model sketch](https://docs.google.com/document/d/1634WYdIV1gSJxX5kSBqkdombvkzXfMHB75_AlZfM1xs/edit\n",
    "?usp=sharing), Message ID: 1235600710037540895\"\"\")\n",
    "print(test_input)"
   ]
  },
  {
   "cell_type": "code",
   "execution_count": 58,
   "metadata": {},
   "outputs": [],
   "source": [
    "test_output = get_completion(test_input)"
   ]
  },
  {
   "cell_type": "code",
   "execution_count": 60,
   "metadata": {},
   "outputs": [
    {
     "name": "stdout",
     "output_type": "stream",
     "text": [
      "{\n",
      "  \"Message_time\": \"2024-05-02T14:36:05\",\n",
      "  \"User_id\": \"a_na4603\",\n",
      "  \"Channel_name\": \"#project\",\n",
      "  \"Channel_id\": 1233476522032103444,\n",
      "  \"Message\": \"@everyone \\n\\nupdate:\\n\\nwe have given paloozabot robust logging capabilities. we plan to use the logs for understanding system (bot) and user behavior. logs need to be extracted, transformed, and loaded into a database - we laid the groundwork for this here:\\n\\n[paloozabot logs data model sketch](https://docs.google.com/document/d/1634WYdIV1gSJxX5kSBqkdombvkzXfMHB75_AlZfM1xs/edit?usp=sharing), Message ID: 1235600710037540895\",\n",
      "  \"Mentions\": [\"@everyone\"],\n",
      "  \"Emojis\": []\n",
      "}\n"
     ]
    }
   ],
   "source": [
    "print(test_output)"
   ]
  },
  {
   "cell_type": "code",
   "execution_count": 61,
   "metadata": {},
   "outputs": [
    {
     "data": {
      "text/plain": [
       "449.75"
      ]
     },
     "execution_count": 61,
     "metadata": {},
     "output_type": "execute_result"
    }
   ],
   "source": [
    "len(test_input)/4"
   ]
  },
  {
   "cell_type": "code",
   "execution_count": 62,
   "metadata": {},
   "outputs": [
    {
     "data": {
      "text/plain": [
       "156.5"
      ]
     },
     "execution_count": 62,
     "metadata": {},
     "output_type": "execute_result"
    }
   ],
   "source": [
    "len(test_output)/4"
   ]
  },
  {
   "cell_type": "code",
   "execution_count": 65,
   "metadata": {},
   "outputs": [
    {
     "data": {
      "text/plain": [
       "0.0045000000000000005"
      ]
     },
     "execution_count": 65,
     "metadata": {},
     "output_type": "execute_result"
    }
   ],
   "source": [
    "(10/1_000_000)*450"
   ]
  },
  {
   "cell_type": "code",
   "execution_count": null,
   "metadata": {},
   "outputs": [],
   "source": [
    "# ~4 characters = 1 token"
   ]
  },
  {
   "cell_type": "code",
   "execution_count": 51,
   "metadata": {},
   "outputs": [
    {
     "data": {
      "text/plain": [
       "{'Datetime': '2024-05-01T15:33:36',\n",
       " 'Level': 'DEBUG',\n",
       " 'Module': 'discord.client',\n",
       " 'Context': 'client:1989:event',\n",
       " 'Message': 'on_ready has successfully been registered as an event'}"
      ]
     },
     "execution_count": 51,
     "metadata": {},
     "output_type": "execute_result"
    }
   ],
   "source": [
    "import json\n",
    "\n",
    "json.loads(test_output)"
   ]
  },
  {
   "cell_type": "code",
   "execution_count": 52,
   "metadata": {},
   "outputs": [
    {
     "name": "stdout",
     "output_type": "stream",
     "text": [
      "0\n"
     ]
    }
   ],
   "source": [
    "errors = 0\n",
    "for i in range(20):\n",
    "\n",
    "    test_output = get_completion(test_input)\n",
    "\n",
    "    try:\n",
    "        json.loads(test_output)\n",
    "    except:\n",
    "        errors += 1\n",
    "\n",
    "print(errors)"
   ]
  },
  {
   "cell_type": "code",
   "execution_count": 39,
   "metadata": {},
   "outputs": [
    {
     "data": {
      "text/plain": [
       "'\\ninput: my input\\nJSON output: \\n'"
      ]
     },
     "execution_count": 39,
     "metadata": {},
     "output_type": "execute_result"
    }
   ],
   "source": [
    "# 50% error rate\n",
    "\n",
    "# chat bots are too chatty for this use case\n",
    "example_prompt = \\\n",
    "\"\"\"\n",
    "input: {input}\n",
    "JSON output: \n",
    "\"\"\"\n",
    "\n",
    "example_prompt.format(input = \"my input\")"
   ]
  },
  {
   "cell_type": "code",
   "execution_count": null,
   "metadata": {},
   "outputs": [],
   "source": [
    "# start with a log\n",
    "# then get a json\n",
    "# we turn it into a single tabular record\n",
    "# then we transfer it to the database\n",
    "\n",
    "\n",
    "# the AI is giving us different jsons (3 different kinds)\n",
    "# so it spits out a json\n",
    "# and we need to know what table it belongs to."
   ]
  },
  {
   "cell_type": "code",
   "execution_count": 53,
   "metadata": {},
   "outputs": [],
   "source": [
    "with open('paloozabot.log','r') as file:\n",
    "    logs = file.read() "
   ]
  },
  {
   "cell_type": "code",
   "execution_count": 56,
   "metadata": {},
   "outputs": [
    {
     "data": {
      "text/plain": [
       "8041.0"
      ]
     },
     "execution_count": 56,
     "metadata": {},
     "output_type": "execute_result"
    }
   ],
   "source": [
    "len(logs)/4"
   ]
  },
  {
   "cell_type": "code",
   "execution_count": null,
   "metadata": {},
   "outputs": [],
   "source": []
  }
 ],
 "metadata": {
  "kernelspec": {
   "display_name": "basic",
   "language": "python",
   "name": "python3"
  },
  "language_info": {
   "codemirror_mode": {
    "name": "ipython",
    "version": 3
   },
   "file_extension": ".py",
   "mimetype": "text/x-python",
   "name": "python",
   "nbconvert_exporter": "python",
   "pygments_lexer": "ipython3",
   "version": "3.11.7"
  },
  "orig_nbformat": 4
 },
 "nbformat": 4,
 "nbformat_minor": 2
}
