{
 "cells": [
  {
   "cell_type": "code",
   "execution_count": 1,
   "metadata": {},
   "outputs": [],
   "source": [
    "with open('paloozabot.log','r') as file:\n",
    "    log_data = file.read()"
   ]
  },
  {
   "cell_type": "code",
   "execution_count": 5,
   "metadata": {},
   "outputs": [
    {
     "data": {
      "text/plain": [
       "{'Datetime': '2024-05-01T15:33:36',\n",
       " 'Level': 'WARNING',\n",
       " 'Module': 'discord.client',\n",
       " 'Context': 'client:295:__init__',\n",
       " 'Message': 'PyNaCl is not installed, voice will NOT be supported'}"
      ]
     },
     "execution_count": 5,
     "metadata": {},
     "output_type": "execute_result"
    }
   ],
   "source": [
    "from utils.listify_logs import listify_log\n",
    "from utils.jsonify_log import jsonify_log\n",
    "log_list = listify_log(log_data)\n",
    "jsonify_log(log_list[0]) # test"
   ]
  },
  {
   "cell_type": "code",
   "execution_count": null,
   "metadata": {},
   "outputs": [],
   "source": [
    "# start with a log then get a json\n",
    "# we turn it into a single tabular record then we transfer it to the database\n",
    "# the AI is giving us different jsons (3 different kinds)\n",
    "# it spits out a json and we need to know what table it belongs to.\n",
    "# we'll use the length of the dict for this rather than asking gpt to figure it out"
   ]
  }
 ],
 "metadata": {
  "kernelspec": {
   "display_name": "basic",
   "language": "python",
   "name": "python3"
  },
  "language_info": {
   "codemirror_mode": {
    "name": "ipython",
    "version": 3
   },
   "file_extension": ".py",
   "mimetype": "text/x-python",
   "name": "python",
   "nbconvert_exporter": "python",
   "pygments_lexer": "ipython3",
   "version": "3.11.7"
  },
  "orig_nbformat": 4
 },
 "nbformat": 4,
 "nbformat_minor": 2
}
